{
  "cells": [
    {
      "cell_type": "markdown",
      "id": "2fa8b039",
      "metadata": {
        "id": "2fa8b039"
      },
      "source": [
        "## Arithmetic Operators"
      ]
    },
    {
      "cell_type": "code",
      "execution_count": null,
      "id": "be267969",
      "metadata": {
        "colab": {
          "base_uri": "https://localhost:8080/"
        },
        "id": "be267969",
        "outputId": "66c7a7c0-c2ca-452d-b870-5eb230a23dcf"
      },
      "outputs": [
        {
          "output_type": "stream",
          "name": "stdout",
          "text": [
            "Addition: 13\n",
            "Subtraction: 7\n",
            "Multiplication: 30\n",
            "Division: 3.3333333333333335\n",
            "Floor Division: 3\n",
            "Modulus: 1\n",
            "Exponentiation: 1000\n"
          ]
        }
      ],
      "source": [
        "# Arithmetic Operators\n",
        "# Python supports basic arithmetic operations:\n",
        "# Addition (+), Subtraction (-), Multiplication (*), Division (/), Modulus (%), Exponentiation (**)\n",
        "\n",
        "a = 10\n",
        "b = 3\n",
        "\n",
        "print(\"Addition:\", a + b)\n",
        "print(\"Subtraction:\",a-b ) # Your code from here and on\n",
        "print(\"Multiplication:\", a*b)\n",
        "print(\"Division:\", a/b)\n",
        "print(\"Floor Division:\",a//b )\n",
        "print(\"Modulus:\",a%b )\n",
        "print(\"Exponentiation:\",a**b )\n"
      ]
    },
    {
      "cell_type": "markdown",
      "id": "b1f46671",
      "metadata": {
        "id": "b1f46671"
      },
      "source": [
        "## Expressions"
      ]
    },
    {
      "cell_type": "code",
      "execution_count": null,
      "id": "ebdd5307",
      "metadata": {
        "colab": {
          "base_uri": "https://localhost:8080/"
        },
        "id": "ebdd5307",
        "outputId": "c3599522-382a-446d-89b7-2890dd7d35a2"
      },
      "outputs": [
        {
          "output_type": "stream",
          "name": "stdout",
          "text": [
            "Expression result: a = 25  b = 13\n"
          ]
        }
      ],
      "source": [
        "# Expressions\n",
        "# An expression is a combination of values, variables, and operators that Python can evaluate.\n",
        "\n",
        "x = 5\n",
        "y = 2\n",
        "a = x * (y + 3) # Your code to change a and b to different expressions\n",
        "b = x * y + 3\n",
        "\n",
        "print(\"Expression result: a =\", a, \" b =\", b)"
      ]
    },
    {
      "cell_type": "markdown",
      "id": "da622ebd",
      "metadata": {
        "id": "da622ebd"
      },
      "source": [
        "## Arithmetic Functions"
      ]
    },
    {
      "cell_type": "code",
      "execution_count": null,
      "id": "8f87d071",
      "metadata": {
        "colab": {
          "base_uri": "https://localhost:8080/"
        },
        "id": "8f87d071",
        "outputId": "ab0415b3-9905-407a-c104-f040fe59370f"
      },
      "outputs": [
        {
          "output_type": "stream",
          "name": "stdout",
          "text": [
            "Absolute value: 7.89627\n",
            "Rounded value: -7.896\n"
          ]
        }
      ],
      "source": [
        "# Arithmetic Functions\n",
        "# Python provides built-in functions like round() and abs()\n",
        "\n",
        "value = -7.89627\n",
        "\n",
        "print(\"Absolute value:\", abs(value))\n",
        "print(\"Rounded value:\", round(value, 3))\n",
        "\n",
        "# Your code here"
      ]
    },
    {
      "cell_type": "markdown",
      "id": "ee503e8f",
      "metadata": {
        "id": "ee503e8f"
      },
      "source": [
        "## Strings"
      ]
    },
    {
      "cell_type": "code",
      "execution_count": null,
      "id": "bdcb4d75",
      "metadata": {
        "colab": {
          "base_uri": "https://localhost:8080/"
        },
        "id": "bdcb4d75",
        "outputId": "8afdff32-fbb4-4cc5-b4f5-3e149af44d8c"
      },
      "outputs": [
        {
          "output_type": "stream",
          "name": "stdout",
          "text": [
            "Hello, World!\n",
            "Hello, World!\n",
            "Length of string 1: 13\n",
            "Uppercase: HELLO, WORLD!\n"
          ]
        }
      ],
      "source": [
        "# Strings\n",
        "# Strings are sequences of characters enclosed in quotes.\n",
        "\n",
        "greeting1 = \"Hello, World!\"\n",
        "greeting2 = 'Hello' + ', ' + \"World!\"\n",
        "print(greeting1)\n",
        "print(greeting2)\n",
        "print(\"Length of string 1:\", len(greeting1))\n",
        "print(\"Uppercase:\", greeting2.upper())\n",
        "\n",
        "# Your code here\n"
      ]
    },
    {
      "cell_type": "markdown",
      "id": "aec13de8",
      "metadata": {
        "id": "aec13de8"
      },
      "source": [
        "## Values and Variables"
      ]
    },
    {
      "cell_type": "code",
      "execution_count": null,
      "id": "74303a9a",
      "metadata": {
        "colab": {
          "base_uri": "https://localhost:8080/"
        },
        "id": "74303a9a",
        "outputId": "ac877cf6-58d1-4d58-fb13-55af28cb24ae"
      },
      "outputs": [
        {
          "output_type": "stream",
          "name": "stdout",
          "text": [
            "Type of num: <class 'int'>\n",
            "Type of text: <class 'str'>\n",
            "Convert string to int: 123\n",
            "Convert string to float: 123.456\n",
            "Convert float to int: 123\n"
          ]
        }
      ],
      "source": [
        "# Values and Variables\n",
        "# Variables store values. Use type() to check the type of a value.\n",
        "\n",
        "num = 42\n",
        "text = \"Python\"\n",
        "int_num = int(\"123\")\n",
        "\n",
        "print(\"Type of num:\", type(num))\n",
        "print(\"Type of text:\", type(text))\n",
        "print(\"Convert string to int:\", int(\"123\"))\n",
        "print(\"Convert string to float:\", float(\"123.456\"))\n",
        "print(\"Convert float to int:\", int(123.456))\n",
        "\n",
        "# Your code here\n"
      ]
    },
    {
      "cell_type": "markdown",
      "id": "412914d1",
      "metadata": {
        "id": "412914d1"
      },
      "source": [
        "## Variable Assignments and Statements"
      ]
    },
    {
      "cell_type": "code",
      "execution_count": null,
      "id": "ebb5b28a",
      "metadata": {
        "colab": {
          "base_uri": "https://localhost:8080/"
        },
        "id": "ebb5b28a",
        "outputId": "b39e01dc-8fe1-439e-f64b-29a2b2f4a923"
      },
      "outputs": [
        {
          "output_type": "stream",
          "name": "stdout",
          "text": [
            "Value of y: 15\n"
          ]
        }
      ],
      "source": [
        "# Variable Assignments and Statements\n",
        "# Use = to assign values to variables.\n",
        "\n",
        "x = 10\n",
        "y = x + 5\n",
        "print(\"Value of y:\", y)\n"
      ]
    },
    {
      "cell_type": "markdown",
      "id": "3db46405",
      "metadata": {
        "id": "3db46405"
      },
      "source": [
        "## Variable Naming Rules and Keywords"
      ]
    },
    {
      "cell_type": "code",
      "execution_count": null,
      "id": "b07ff4b0",
      "metadata": {
        "colab": {
          "base_uri": "https://localhost:8080/"
        },
        "id": "b07ff4b0",
        "outputId": "9db8069f-bba5-4abe-ff4a-1e74692b48cd"
      },
      "outputs": [
        {
          "output_type": "stream",
          "name": "stdout",
          "text": [
            "Python keywords: ['False', 'None', 'True', 'and', 'as', 'assert', 'async', 'await', 'break', 'class', 'continue', 'def', 'del', 'elif', 'else', 'except', 'finally', 'for', 'from', 'global', 'if', 'import', 'in', 'is', 'lambda', 'nonlocal', 'not', 'or', 'pass', 'raise', 'return', 'try', 'while', 'with', 'yield']\n"
          ]
        }
      ],
      "source": [
        "# Variable Naming Rules and Keywords\n",
        "# Variable names must start with a letter or underscore and cannot be Python keywords.\n",
        "\n",
        "# Valid variable names\n",
        "my_var = 1\n",
        "_var2 = 2\n",
        "\n",
        "# Invalid: 2var = 3 (starts with a number)\n",
        "# Invalid: if = 4 (if is a keyword)\n",
        "\n",
        "import keyword\n",
        "print(\"Python keywords:\", keyword.kwlist) # Print out a list of Python keywords\n",
        "\n"
      ]
    },
    {
      "cell_type": "markdown",
      "id": "04067491",
      "metadata": {
        "id": "04067491"
      },
      "source": [
        "## Math Module"
      ]
    },
    {
      "cell_type": "code",
      "execution_count": null,
      "id": "db9aac63",
      "metadata": {
        "colab": {
          "base_uri": "https://localhost:8080/"
        },
        "id": "db9aac63",
        "outputId": "84711fe0-21d0-471a-cda9-134f785c6a07"
      },
      "outputs": [
        {
          "output_type": "stream",
          "name": "stdout",
          "text": [
            "Square root of 16: 4.0\n",
            "Value of pi: 3.141592653589793\n",
            "Cosine of 0: 1.0\n"
          ]
        }
      ],
      "source": [
        "# Math Module\n",
        "# Import the math module to access mathematical functions\n",
        "\n",
        "import math\n",
        "\n",
        "print(\"Square root of 16:\", math.sqrt(16))\n",
        "print(\"Value of pi:\", math.pi)\n",
        "print(\"Cosine of 0:\", math.cos(0))\n",
        "\n",
        "# Your code here to use math functions. Do what you like!\n"
      ]
    },
    {
      "cell_type": "markdown",
      "id": "4a980680",
      "metadata": {
        "id": "4a980680"
      },
      "source": [
        "## TypeErrors"
      ]
    },
    {
      "cell_type": "code",
      "execution_count": null,
      "id": "951b1c0b",
      "metadata": {
        "id": "951b1c0b"
      },
      "outputs": [],
      "source": [
        "# TypeErrors\n",
        "# TypeErrors occur when operations are applied to incompatible types\n",
        "\n",
        "# Example:\n",
        "try:\n",
        "    result = \"hello\" + \"5\"\n",
        "except TypeError as e:\n",
        "    print(\"TypeError:\", e)\n",
        "\n",
        "# Fix the error\n"
      ]
    },
    {
      "cell_type": "markdown",
      "id": "b4b3f96c",
      "metadata": {
        "id": "b4b3f96c"
      },
      "source": [
        "## Comments"
      ]
    },
    {
      "cell_type": "code",
      "execution_count": null,
      "id": "74931309",
      "metadata": {
        "colab": {
          "base_uri": "https://localhost:8080/"
        },
        "id": "74931309",
        "outputId": "f03ff289-b4c5-4378-a618-d790a617615b"
      },
      "outputs": [
        {
          "output_type": "stream",
          "name": "stdout",
          "text": [
            "5\n"
          ]
        }
      ],
      "source": [
        "# Comments\n",
        "# Use comments to explain code. Comments start with #\n",
        "\n",
        "# This is a comment\n",
        "x = 5  # Assign 5 to x\n",
        "print(x) # Add a comment here\n"
      ]
    },
    {
      "cell_type": "markdown",
      "id": "c33bce8d",
      "metadata": {
        "id": "c33bce8d"
      },
      "source": [
        "# Exercises\n",
        "# Try these:\n",
        "# 1. Create a variable and assign it a string.\n",
        "# 2. Use math.sqrt() to find the square root of a number.\n",
        "# 3. Write a comment explaining what your code does.\n"
      ]
    },
    {
      "cell_type": "code",
      "execution_count": null,
      "id": "5ab5b497",
      "metadata": {
        "colab": {
          "base_uri": "https://localhost:8080/"
        },
        "id": "5ab5b497",
        "outputId": "b242eedd-c3c6-4a08-ec3f-c530139faeb2"
      },
      "outputs": [
        {
          "output_type": "stream",
          "name": "stdout",
          "text": [
            "Lebron is my goat \n"
          ]
        }
      ],
      "source": [
        "x=(\"Lebron is my goat \")\n",
        "print(x)\n"
      ]
    },
    {
      "cell_type": "code",
      "execution_count": null,
      "id": "41c09630",
      "metadata": {
        "colab": {
          "base_uri": "https://localhost:8080/"
        },
        "id": "41c09630",
        "outputId": "dd581a24-d30d-461b-9861-56abd5d16e89"
      },
      "outputs": [
        {
          "output_type": "stream",
          "name": "stdout",
          "text": [
            "4.0\n"
          ]
        }
      ],
      "source": [
        "import math\n",
        "math.sqrt(16)\n",
        "print(math.sqrt(16))"
      ]
    },
    {
      "cell_type": "code",
      "execution_count": null,
      "id": "c8e2ed98",
      "metadata": {
        "colab": {
          "base_uri": "https://localhost:8080/"
        },
        "id": "c8e2ed98",
        "outputId": "1872de39-c258-46bf-910d-02abb2895954"
      },
      "outputs": [
        {
          "output_type": "stream",
          "name": "stdout",
          "text": [
            "this code explains why i hate stairs\n"
          ]
        }
      ],
      "source": [
        "comments = \"this code explains why i hate stairs\"\n",
        "print(comments)\n"
      ]
    },
    {
      "cell_type": "markdown",
      "id": "9f686303",
      "metadata": {
        "id": "9f686303"
      },
      "source": [
        "## Functions"
      ]
    },
    {
      "cell_type": "code",
      "execution_count": null,
      "id": "1dc8ec37",
      "metadata": {
        "colab": {
          "base_uri": "https://localhost:8080/"
        },
        "id": "1dc8ec37",
        "outputId": "65a9188e-64bd-4317-cc02-30f829564325"
      },
      "outputs": [
        {
          "output_type": "stream",
          "name": "stdout",
          "text": [
            "Hello from a function!\n"
          ]
        }
      ],
      "source": [
        "# Functions\n",
        "# Functions are reusable blocks of code defined using def\n",
        "\n",
        "def greet():\n",
        "    print(\"Hello from a function!\")\n",
        "\n",
        "greet()\n",
        "\n",
        "# Your code here to define and call more functions"
      ]
    },
    {
      "cell_type": "markdown",
      "id": "cbf6f331",
      "metadata": {
        "id": "cbf6f331"
      },
      "source": [
        "## Parameters and Arguments"
      ]
    },
    {
      "cell_type": "code",
      "execution_count": 26,
      "id": "75930ad5",
      "metadata": {
        "id": "75930ad5",
        "colab": {
          "base_uri": "https://localhost:8080/"
        },
        "outputId": "aa04918d-073f-4367-f595-373774d6b5a6"
      },
      "outputs": [
        {
          "output_type": "stream",
          "name": "stdout",
          "text": [
            "Hello Alice\n"
          ]
        }
      ],
      "source": [
        "# Parameters and Arguments\n",
        "# Functions can accept parameters\n",
        "\n",
        "def greet(name):\n",
        "    print(\"Hello\", name)\n",
        "\n",
        "greet(\"Alice\")\n",
        "\n",
        "# Your code here to define and call functions with parameters\n"
      ]
    },
    {
      "cell_type": "markdown",
      "id": "e67d83bb",
      "metadata": {
        "id": "e67d83bb"
      },
      "source": [
        "## Calling Functions and Local Variables"
      ]
    },
    {
      "cell_type": "code",
      "execution_count": 27,
      "id": "544b787d",
      "metadata": {
        "id": "544b787d",
        "colab": {
          "base_uri": "https://localhost:8080/"
        },
        "outputId": "df9ed469-27e9-4a08-b320-efcfc276978c"
      },
      "outputs": [
        {
          "output_type": "stream",
          "name": "stdout",
          "text": [
            "Sum: 7\n",
            "hello5\n"
          ]
        }
      ],
      "source": [
        "# Calling Functions and Local Variables\n",
        "# Variables inside functions are local to that function\n",
        "\n",
        "def add(a, b):\n",
        "    result = a + b\n",
        "    return result\n",
        "\n",
        "print(\"Sum:\", add(3, 4))\n",
        "\n",
        "print(result)  # This will raise an error because result is local to add()\n",
        "\n",
        "# Your code here to define and call more functions with local variables"
      ]
    },
    {
      "cell_type": "markdown",
      "id": "69c11b94",
      "metadata": {
        "id": "69c11b94"
      },
      "source": [
        "## Loops"
      ]
    },
    {
      "cell_type": "code",
      "execution_count": 28,
      "id": "a62fffb4",
      "metadata": {
        "id": "a62fffb4",
        "colab": {
          "base_uri": "https://localhost:8080/"
        },
        "outputId": "7e4065e4-60ed-49aa-9bda-929359d1225e"
      },
      "outputs": [
        {
          "output_type": "stream",
          "name": "stdout",
          "text": [
            "Iteration 0\n",
            "Iteration 1\n",
            "Iteration 2\n",
            "Iteration 3\n",
            "Iteration 4\n"
          ]
        }
      ],
      "source": [
        "# Loops\n",
        "# Use for loops to repeat actions\n",
        "\n",
        "for i in range(5):\n",
        "    print(\"Iteration\", i)\n",
        "\n",
        "# Your code here to define and use more loops\n"
      ]
    },
    {
      "cell_type": "markdown",
      "id": "ff0a87ad",
      "metadata": {
        "id": "ff0a87ad"
      },
      "source": [
        "\n",
        "# Loop Through a List\n",
        "Loop through a list of forces and calculate stress using σ = F / A. Flag any stress that exceeds the yield limit."
      ]
    },
    {
      "cell_type": "code",
      "execution_count": 29,
      "id": "afada623",
      "metadata": {
        "id": "afada623",
        "colab": {
          "base_uri": "https://localhost:8080/"
        },
        "outputId": "67f7c2c5-7be5-4987-9443-e7815740f5cb"
      },
      "outputs": [
        {
          "output_type": "stream",
          "name": "stdout",
          "text": [
            "Force: 500 N → Stress: 100000.00 Pa → OK\n",
            "Force: 1000 N → Stress: 200000.00 Pa → OK\n",
            "Force: 1500 N → Stress: 300000.00 Pa → OK\n",
            "Force: 2000 N → Stress: 400000.00 Pa → Exceeds yield limit!\n"
          ]
        }
      ],
      "source": [
        "forces = [500, 1000, 1500, 2000]  # in Newtons\n",
        "area = 0.005  # cross-sectional area in m²\n",
        "yield_limit = 300000  # in Pascals\n",
        "\n",
        "for F in forces:\n",
        "    stress = F / area\n",
        "    status = \"OK\"\n",
        "    if stress > yield_limit:\n",
        "        status = \"Exceeds yield limit!\"\n",
        "    print(f\"Force: {F} N → Stress: {stress:.2f} Pa → {status}\")\n",
        "\n",
        "# Modify the code above to add more forces and change area and yield_limit"
      ]
    },
    {
      "cell_type": "markdown",
      "id": "91804e1e",
      "metadata": {
        "id": "91804e1e"
      },
      "source": [
        "# Print Text"
      ]
    },
    {
      "cell_type": "code",
      "execution_count": null,
      "id": "35dd4dc9",
      "metadata": {
        "id": "35dd4dc9"
      },
      "outputs": [],
      "source": [
        "print(text[:5]) # NameError: name 'text' is not defined. Need to define 'text' first.\n",
        "\n",
        "# Fix the error"
      ]
    },
    {
      "cell_type": "markdown",
      "id": "be099eeb",
      "metadata": {
        "id": "be099eeb"
      },
      "source": [
        "# Final Exercises\n",
        "# 1. Write a function that returns the square of a number.\n",
        "# 2. Use a loop to print numbers from 1 to 10.\n",
        "# 3. Use round() and abs() in a function.\n"
      ]
    },
    {
      "cell_type": "code",
      "execution_count": null,
      "id": "43c4cd1b",
      "metadata": {
        "id": "43c4cd1b"
      },
      "outputs": [],
      "source": [
        "# Code here"
      ]
    },
    {
      "cell_type": "code",
      "execution_count": null,
      "id": "06be2c70",
      "metadata": {
        "id": "06be2c70"
      },
      "outputs": [],
      "source": [
        "# Code here"
      ]
    },
    {
      "cell_type": "code",
      "execution_count": null,
      "id": "2d31697c",
      "metadata": {
        "id": "2d31697c"
      },
      "outputs": [],
      "source": [
        "# Code here"
      ]
    }
  ],
  "metadata": {
    "kernelspec": {
      "display_name": "Python 3",
      "language": "python",
      "name": "python3"
    },
    "language_info": {
      "codemirror_mode": {
        "name": "ipython",
        "version": 3
      },
      "file_extension": ".py",
      "mimetype": "text/x-python",
      "name": "python",
      "nbconvert_exporter": "python",
      "pygments_lexer": "ipython3",
      "version": "3.13.5"
    },
    "colab": {
      "provenance": []
    }
  },
  "nbformat": 4,
  "nbformat_minor": 5
}